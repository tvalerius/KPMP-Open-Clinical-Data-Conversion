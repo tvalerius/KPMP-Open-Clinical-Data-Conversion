{
 "cells": [
  {
   "cell_type": "markdown",
   "id": "0",
   "metadata": {},
   "source": [
    "# Import KPMP Open Clinical Data into an AnnData Object"
   ]
  },
  {
   "cell_type": "markdown",
   "id": "1",
   "metadata": {},
   "source": [
    "Created 2025-04-15"
   ]
  },
  {
   "cell_type": "markdown",
   "id": "2",
   "metadata": {},
   "source": [
    "This code is meant to ingest the Open Access Clinical Data file for KPMP and create a suitable AnnData object for use with transcriptomic analysis. The current openly accessible clinical data is released as a `.csv.` file (current filename `20241202_OpenAccessClinicalData.csv`). The first column is the Participant ID and serves as the index for the AnnData object and can be used to link the clinical data to downloaded sample data (data in KPMP includes sample and participant IDs). The columns included in the Open Access Clinical Data are as follows:\n",
    "\n",
    "- Participant ID  \n",
    "- Tissue Source  \n",
    "- Protocol  \n",
    "- Sample Type  \n",
    "- Enrollment Category  \n",
    "- Primary Adjudicated Category  \n",
    "- Sex  \n",
    "- Age (Years) (Binned)  \n",
    "- Race  \n",
    "- KDIGO Stage  \n",
    "- Baseline eGFR (ml/min/1.73m2) (Binned)  \n",
    "- Proteinuria (mg) (Binned)  \n",
    "- A1c (%) (Binned)  \n",
    "- Albuminuria (mg) (Binned)  \n",
    "- Diabetes History  \n",
    "- Diabetes Duration (Years)  \n",
    "- Hypertension History  \n",
    "- Hypertension Duration (Years)  \n",
    "- On RAAS Blockade  "
   ]
  },
  {
   "cell_type": "markdown",
   "id": "3",
   "metadata": {},
   "source": [
    "## Ingest the downloaded Open Access Clinical Data file."
   ]
  },
  {
   "cell_type": "markdown",
   "id": "4",
   "metadata": {},
   "source": [
    "The steps performed in this conversion:\n",
    "\n",
    "*   **Read in the CSV file** without immediately setting the index so that we can clean all column names.\n",
    "    \n",
    "*   **Rename all columns** o a standardized snake_case format by lowercasing letters, replacing spaces with underscores, and removing parentheses and slashes.\n",
    "    \n",
    "*   **Set the “participant_id” column** (the cleaned name for “Participant ID”) as the index.\n",
    "    \n",
    "*   **Define the plotting order for “binned” columns** to that ranges display in a useful way.\n",
    "    \n",
    "*   **Create an AnnData object** using the cleaned DataFrame.\n",
    "\n",
    "*   **Plot each clinical data element from the AnnData object** to check the outcome of the processing."
   ]
  },
  {
   "cell_type": "code",
   "execution_count": null,
   "id": "5",
   "metadata": {},
   "outputs": [],
   "source": [
    "import pandas as pd\n",
    "import anndata as ad\n",
    "import re\n",
    "import os\n",
    "\n",
    "# Prompt user to input the path\n",
    "filename = input(\"Enter full path to your clinical CSV file: \").strip()\n",
    "\n",
    "# Validate the file path\n",
    "if not os.path.isfile(filename):\n",
    "    raise FileNotFoundError(f\"🚫 File not found: {filename}\")\n",
    "\n",
    "# Load the CSV\n",
    "clinical_df = pd.read_csv(filename)\n",
    "print(f\"✅ Loaded file with shape: {clinical_df.shape}\")\n",
    "\n",
    "# Use the full path if using remotely. If the csv file is in the current working directory as the Jupyter Notebook, you only need to enter the filename."
   ]
  },
  {
   "cell_type": "markdown",
   "id": "6",
   "metadata": {},
   "source": [
    "## Clean the columns of spaces and apply best practices to naming the columns and set the index."
   ]
  },
  {
   "cell_type": "code",
   "execution_count": null,
   "id": "7",
   "metadata": {},
   "outputs": [],
   "source": [
    "clinical_df.columns = (\n",
    "    clinical_df.columns\n",
    "    .str.strip()\n",
    "    .str.lower()\n",
    "    .str.replace(r\"\\s+\", \"_\", regex=True)\n",
    "    .str.replace(r\"[()%]\", \"\", regex=True)\n",
    ")\n",
    "\n",
    "# Set the first column as the index\n",
    "clinical_df.set_index(clinical_df.columns[0], inplace=True)\n",
    "\n",
    "# Use the following one at a time in the console to check the dataframe\n",
    "# Check the dataframe\n",
    "# clinical_df.head()\n",
    "\n",
    "# Check the shape\n",
    "# clinical_df.shape\n",
    "\n",
    "# Check the column names\n",
    "# clinical_df.columns"
   ]
  },
  {
   "cell_type": "markdown",
   "id": "8",
   "metadata": {},
   "source": [
    "## Remove units from the data and store for later."
   ]
  },
  {
   "cell_type": "code",
   "execution_count": null,
   "id": "9",
   "metadata": {},
   "outputs": [],
   "source": [
    "columns_to_clean = [\n",
    "    'age_years_binned',\n",
    "    'baseline_egfr_ml/min/1.73m2_binned',\n",
    "    'diabetes_duration_years',\n",
    "    'hypertension_duration_years'\n",
    "]\n",
    "\n",
    "# Dictionary to store units\n",
    "column_units = {}\n",
    "\n",
    "# Clean values and extract units\n",
    "for col in columns_to_clean:\n",
    "    # Drop NA for checking a sample\n",
    "    sample_val = clinical_df[col].dropna().astype(str).iloc[0]\n",
    "\n",
    "    # Extract the unit using regex (anything after the main numeric expression)\n",
    "    match = re.match(r\"([<>=]*\\d+[-–]?\\d*)\\s*(.*)\", sample_val)\n",
    "    if match:\n",
    "        clean_val, unit = match.groups()\n",
    "        column_units[col] = unit.strip()\n",
    "        \n",
    "        # Apply cleaning to the whole column\n",
    "        clinical_df[col] = clinical_df[col].astype(str).str.extract(r\"([<>=]*\\d+[-–]?\\d*)\")[0]\n",
    "    else:\n",
    "        column_units[col] = ''  # No unit found\n",
    "\n",
    "# At this point clinical_df has clean values, and units are stored"
   ]
  },
  {
   "cell_type": "markdown",
   "id": "10",
   "metadata": {},
   "source": [
    "## Determine the plotting order for the binned data and select others."
   ]
  },
  {
   "cell_type": "code",
   "execution_count": null,
   "id": "11",
   "metadata": {},
   "outputs": [],
   "source": [
    "# Define bin orders\n",
    "age_years_binned_order = [\n",
    "    \"10-19\", \"20-29\", \"30-39\", \"40-49\", \"50-59\", \"60-69\", \"70-79\", \"80-89\"\n",
    "]\n",
    "\n",
    "egfr_bins_order = [\n",
    "    \"140-149\", \"120-129\", \"110-119\", \"100-109\", \"90-99\", \"80-89\",\n",
    "    \"70-79\", \"60-69\", \"50-59\", \"40-49\", \"30-39\", \"20-29\", \"10-19\"\n",
    "]\n",
    "\n",
    "\n",
    "proteinuria_bins_order = [\n",
    "    \"<150 mg/g cr\",\n",
    "    \"150 to <500 mg/g cr\",\n",
    "    \"500 to <1000 mg/g cr\",\n",
    "    \">=1000 mg/g cr\"\n",
    "]\n",
    "\n",
    "a1c_bins_order = [\n",
    "    \"<6.5%\",\n",
    "    \"6.5 to <7.5%\",\n",
    "    \"7.5 to <8.5%\",\n",
    "    \">=8.5%\"\n",
    "]\n",
    "\n",
    "albuminuria_bins_order = [\n",
    "    \"<30 mg/g cr\",\n",
    "    \"30 to <300 mg/g cr\",\n",
    "    \"300 to <500 mg/g cr\",\n",
    "    \"500 to <1000 mg/g cr\",\n",
    "    \">=1000 mg/g cr\"\n",
    "]\n",
    "\n",
    "kdigo_stage_order = [\n",
    "    \"Stage 1\",\n",
    "    \"Stage 2\",\n",
    "    \"Stage 3\",\n",
    "]\n",
    "\n",
    "diabetes_duration_years_order  = [\n",
    "        '0-4', '5-9', '10-14', '15-19', '20-24', '25-29', '30-34', '35-39', '40-44', '45-49', '50-54', '55-59', '60-64'\n",
    "]\n",
    "\n",
    "hypertension_duration_years_order = [\n",
    "    '0-4', '5-9', '10-14', '15-19', '20-24', '25-29', '30-34', '35-39', '40-44', '45-49', '50-54'\n",
    "]\n",
    "\n",
    "# Map column names to bin orders\n",
    "bin_orders = {\n",
    "    \"age_years_binned\": age_years_binned_order,\n",
    "    \"baseline_egfr_ml/min/1.73m2_binned\": egfr_bins_order,\n",
    "    \"proteinuria_mg_binned\": proteinuria_bins_order,\n",
    "    \"a1c__binned\": a1c_bins_order,\n",
    "    \"albuminuria_mg_binned\": albuminuria_bins_order,\n",
    "    \"kdigo_stage\": kdigo_stage_order,\n",
    "    \"diabetes_duration_years\": diabetes_duration_years_order,\n",
    "    \"hypertension_duration_years\": hypertension_duration_years_order\n",
    "}\n",
    "\n",
    "# Apply the ordered categories \n",
    "for col, order in bin_orders.items():\n",
    "    if col in clinical_df.columns:\n",
    "        clinical_df[col] = pd.Categorical(clinical_df[col], categories=order, ordered=True)\n",
    "\n",
    "# (note that the ordering does not always carry through to the anndata object and will be reapplied after conversion)"
   ]
  },
  {
   "cell_type": "markdown",
   "id": "12",
   "metadata": {},
   "source": [
    "# Convert to an AnnData object."
   ]
  },
  {
   "cell_type": "code",
   "execution_count": null,
   "id": "13",
   "metadata": {},
   "outputs": [],
   "source": [
    "adata = ad.AnnData(obs=clinical_df.copy())\n",
    "adata.uns[\"bin_orders\"] = bin_orders\n",
    "adata.uns[\"column_units\"] = column_units  # if you're storing units too\n",
    "\n",
    "# Repeat the ordered columns in teh anndata object\n",
    "for col, order in adata.uns[\"bin_orders\"].items():\n",
    "    if col in adata.obs.columns:\n",
    "        adata.obs[col] = pd.Categorical(adata.obs[col], categories=order, ordered=True)"
   ]
  },
  {
   "cell_type": "markdown",
   "id": "14",
   "metadata": {},
   "source": [
    "# Plot all data from the AnnData object."
   ]
  },
  {
   "cell_type": "code",
   "execution_count": null,
   "id": "15",
   "metadata": {},
   "outputs": [],
   "source": [
    "import matplotlib.pyplot as plt\n",
    "import seaborn as sns\n",
    "\n",
    "sns.set(font='Arial')\n",
    "\n",
    "def plot_clinical_column(adata, column, figsize=(10, 4)):\n",
    "    \"\"\"\n",
    "    Plots a column from adata.obs with dynamic y-axis handling.\n",
    "    - Automatically adjusts height if bar labels are tall\n",
    "    - Pads top of y-axis to avoid overlap\n",
    "    - Avoids excessive y-tick crowding\n",
    "    \"\"\"\n",
    "    data = adata.obs[column]\n",
    "    \n",
    "    # Use taller plot if column likely needs more space (e.g. race)\n",
    "    if column == \"race\":\n",
    "        figsize = (10, 6)  # or (10, 8) if still too short\n",
    "\n",
    "    plt.figure(figsize=figsize)\n",
    "\n",
    "    skip_rotation = {\"sex\", \"kdigo_stage\", \"hypertension_history\", \"on_raas_blockade\"}\n",
    "    bin_orders = adata.uns.get(\"bin_orders\", {})\n",
    "    order = bin_orders.get(column, data.value_counts().index)\n",
    "\n",
    "    if pd.api.types.is_numeric_dtype(data):\n",
    "        sns.histplot(data.dropna(), bins=10, kde=False, color=\"#008ea8\")\n",
    "        plt.title(f\"Histogram: {column}\")\n",
    "    else:\n",
    "        ax = sns.countplot(x=data, order=order, color=\"#283c5e\")\n",
    "        plt.title(f\"Count Plot: {column}\")\n",
    "\n",
    "        if column not in skip_rotation:\n",
    "            plt.xticks(rotation=45, ha=\"right\")\n",
    "\n",
    "        # Add count labels and pad y-axis\n",
    "        max_height = 0\n",
    "        for container in ax.containers:\n",
    "            heights = [bar.get_height() for bar in container]\n",
    "            max_height = max(max_height, *heights)\n",
    "            ax.bar_label(container, label_type='edge', padding=3, fontsize=9)\n",
    "\n",
    "        # Add y-axis padding\n",
    "        padded_top = max_height * 1.2\n",
    "        ax.set_ylim(top=padded_top)\n",
    "\n",
    "    plt.tight_layout()\n",
    "    plt.show()\n",
    "    \n",
    "# Combine both sets of columns: binned and others\n",
    "all_cols = list(adata.obs.columns)\n",
    "for col in all_cols:\n",
    "    plot_clinical_column(adata, col)"
   ]
  },
  {
   "cell_type": "markdown",
   "id": "16",
   "metadata": {},
   "source": [
    "## Save out anndata object as an `.h5ad` file. "
   ]
  },
  {
   "cell_type": "code",
   "execution_count": null,
   "id": "17",
   "metadata": {},
   "outputs": [],
   "source": [
    "from datetime import datetime\n",
    "import os\n",
    "\n",
    "# Add metadata tags to AnnData object\n",
    "adata.uns[\"clinical_data_release_date\"] = \"2024-12-02\"  # Source CSV release date\n",
    "adata.uns[\"dataset_name\"] = \"KPMP Open Access Clinical Metadata\"\n",
    "\n",
    "# Get current date in YYYYMMDD format\n",
    "date_tag = datetime.today().strftime(\"%Y%m%d\")\n",
    "\n",
    "# Create filename\n",
    "filename = f\"clinical_metadata_kpmp_{date_tag}.h5ad\"\n",
    "\n",
    "# Save to current working directory\n",
    "save_path = os.path.join(os.getcwd(), filename)\n",
    "adata.write(save_path)\n",
    "\n",
    "print(f\"✅ Saved AnnData to: {save_path}\")"
   ]
  },
  {
   "cell_type": "code",
   "execution_count": null,
   "id": "18",
   "metadata": {},
   "outputs": [],
   "source": []
  },
  {
   "cell_type": "code",
   "execution_count": null,
   "id": "19",
   "metadata": {},
   "outputs": [],
   "source": [
    "# Options for plot outputs"
   ]
  },
  {
   "cell_type": "code",
   "execution_count": null,
   "id": "20",
   "metadata": {},
   "outputs": [],
   "source": [
    "## Color customizations"
   ]
  },
  {
   "cell_type": "code",
   "execution_count": null,
   "id": "21",
   "metadata": {},
   "outputs": [],
   "source": [
    "import matplotlib.pyplot as plt\n",
    "import seaborn as sns\n",
    "import pandas as pd\n",
    "\n",
    "def plot_clinical_column(adata, column, figsize=(10, 4), color=\"#283c5e\", show_grid=True):\n",
    "    \"\"\"\n",
    "    Plots a column from adata.obs with dynamic y-axis handling.\n",
    "    - Automatically adjusts height if bar labels are tall\n",
    "    - Pads top of y-axis to avoid overlap\n",
    "    - Adds optional horizontal grid lines at y-ticks\n",
    "    - Allows customizable color\n",
    "    \"\"\"\n",
    "    data = adata.obs[column]\n",
    "\n",
    "    if column == \"race\":\n",
    "        figsize = (10, 6)\n",
    "\n",
    "    plt.figure(figsize=figsize)\n",
    "    ax = plt.gca()\n",
    "\n",
    "    skip_rotation = {\"sex\", \"kdigo_stage\", \"hypertension_history\", \"on_raas_blockade\"}\n",
    "    bin_orders = adata.uns.get(\"bin_orders\", {})\n",
    "    order = bin_orders.get(column, data.value_counts().index)\n",
    "\n",
    "    if pd.api.types.is_numeric_dtype(data):\n",
    "        sns.histplot(data.dropna(), bins=10, kde=False, color=color, ax=ax)\n",
    "        ax.set_title(f\"Histogram: {column}\")\n",
    "    else:\n",
    "        sns.countplot(x=data, order=order, color=color, ax=ax)\n",
    "        ax.set_title(f\"Count Plot: {column}\")\n",
    "\n",
    "        if column not in skip_rotation:\n",
    "            ax.set_xticks(ax.get_xticks())\n",
    "            ax.set_xticklabels(ax.get_xticklabels(), rotation=45, ha=\"right\")\n",
    "\n",
    "        # Add count labels and pad y-axis\n",
    "        max_height = 0\n",
    "        for container in ax.containers:\n",
    "            heights = [bar.get_height() for bar in container]\n",
    "            max_height = max(max_height, *heights)\n",
    "            ax.bar_label(container, label_type='edge', padding=3, fontsize=9)\n",
    "\n",
    "        padded_top = max_height * 1.2\n",
    "        ax.set_ylim(top=padded_top)\n",
    "\n",
    "    if show_grid:\n",
    "        ax.yaxis.grid(True, linestyle='--', alpha=0.6)\n",
    "\n",
    "    plt.tight_layout()\n",
    "    plt.show()\n"
   ]
  },
  {
   "cell_type": "code",
   "execution_count": null,
   "id": "22",
   "metadata": {},
   "outputs": [],
   "source": [
    "custom_colors = {\n",
    "    \"sex\": \"#29910D\",\n",
    "    \"race\": \"#F79000\",\n",
    "    \"kdigo_stage\": \"#0070c0\",\n",
    "    \"egfr_bins\": \"#bb0606\",\n",
    "    \"tissue_source\": \"#283C5E\"\n",
    "}\n",
    "\n",
    "for col in all_cols:\n",
    "    plot_clinical_column(\n",
    "        adata, \n",
    "        col, \n",
    "        color=custom_colors.get(col, \"#008ea8\")  # use custom or fallback color\n",
    "    )\n"
   ]
  },
  {
   "cell_type": "code",
   "execution_count": null,
   "id": "23",
   "metadata": {},
   "outputs": [],
   "source": [
    "## Single variable category plots"
   ]
  },
  {
   "cell_type": "code",
   "execution_count": null,
   "id": "24",
   "metadata": {},
   "outputs": [],
   "source": [
    "plot_clinical_column(adata, \"enrollment_category\")"
   ]
  },
  {
   "cell_type": "code",
   "execution_count": null,
   "id": "25",
   "metadata": {},
   "outputs": [],
   "source": [
    "## Save function added with DPI setting"
   ]
  },
  {
   "cell_type": "code",
   "execution_count": null,
   "id": "26",
   "metadata": {},
   "outputs": [],
   "source": [
    "def plot_clinical_column(adata, column, figsize=(10, 4), save_path=None, dpi=300):\n",
    "    data = adata.obs[column]\n",
    "\n",
    "    if column == \"race\":\n",
    "        figsize = (10, 6)\n",
    "\n",
    "    plt.figure(figsize=figsize)\n",
    "\n",
    "    skip_rotation = {\"sex\", \"kdigo_stage\", \"hypertension_history\", \"on_raas_blockade\"}\n",
    "    bin_orders = adata.uns.get(\"bin_orders\", {})\n",
    "    order = bin_orders.get(column, data.value_counts().index)\n",
    "\n",
    "    if pd.api.types.is_numeric_dtype(data):\n",
    "        sns.histplot(data.dropna(), bins=10, kde=False, color=\"#008ea8\")\n",
    "        plt.title(f\"Histogram: {column}\")\n",
    "    else:\n",
    "        ax = sns.countplot(x=data, order=order, color=\"#283c5e\")\n",
    "        plt.title(f\"Count Plot: {column}\")\n",
    "\n",
    "        if column not in skip_rotation:\n",
    "            plt.xticks(rotation=45, ha=\"right\")\n",
    "\n",
    "        max_height = 0\n",
    "        for container in ax.containers:\n",
    "            heights = [bar.get_height() for bar in container]\n",
    "            max_height = max(max_height, *heights)\n",
    "            ax.bar_label(container, label_type='edge', padding=3, fontsize=9)\n",
    "\n",
    "        padded_top = max_height * 1.2\n",
    "        ax.set_ylim(top=padded_top)\n",
    "\n",
    "    plt.tight_layout()\n",
    "    \n",
    "    # Save if a path is given - add path and filename, and dpi\n",
    "    if save_path:\n",
    "        plt.savefig(save_path, dpi=dpi, bbox_inches=\"tight\")\n",
    "    \n",
    "    plt.show()"
   ]
  },
  {
   "cell_type": "code",
   "execution_count": null,
   "id": "27",
   "metadata": {},
   "outputs": [],
   "source": [
    "plot_clinical_column(adata, \"enrollment_category\", save_path=\"enrollment_category.png\", dpi=600)"
   ]
  },
  {
   "cell_type": "code",
   "execution_count": null,
   "id": "28",
   "metadata": {},
   "outputs": [],
   "source": []
  }
 ],
 "metadata": {
  "kernelspec": {
   "display_name": "Python (scvi-env)",
   "language": "python",
   "name": "scvi-env"
  },
  "language_info": {
   "codemirror_mode": {
    "name": "ipython",
    "version": 3
   },
   "file_extension": ".py",
   "mimetype": "text/x-python",
   "name": "python",
   "nbconvert_exporter": "python",
   "pygments_lexer": "ipython3",
   "version": "3.10.6"
  }
 },
 "nbformat": 4,
 "nbformat_minor": 5
}
